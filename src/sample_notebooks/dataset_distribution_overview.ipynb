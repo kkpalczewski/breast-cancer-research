{
 "cells": [
  {
   "cell_type": "code",
   "execution_count": 71,
   "metadata": {},
   "outputs": [],
   "source": [
    "import pandas as pd\n",
    "import matplotlib"
   ]
  },
  {
   "cell_type": "markdown",
   "metadata": {},
   "source": [
    "## Metadata"
   ]
  },
  {
   "cell_type": "code",
   "execution_count": 72,
   "metadata": {},
   "outputs": [],
   "source": [
    "train_metadata = pd.read_csv(\"/home/krzysztof/Documents/Studia/Master_thesis/02_Source_code/breast-cancer-research/data/labels_for_whole_cases/train_set.csv\")\n",
    "val_metadata = pd.read_csv(\"/home/krzysztof/Documents/Studia/Master_thesis/02_Source_code/breast-cancer-research/data/labels_for_whole_cases/validation_set.csv\")\n",
    "test_metadata = pd.read_csv(\"/home/krzysztof/Documents/Studia/Master_thesis/02_Source_code/breast-cancer-research/data/labels_for_whole_cases/test_set.csv\")\n",
    "all_metadata = pd.read_csv(\"/home/krzysztof/Documents/Studia/Master_thesis/02_Source_code/breast-cancer-research/data/labels_for_whole_cases/metadata_for_whole_images_v2.csv\")"
   ]
  },
  {
   "cell_type": "markdown",
   "metadata": {},
   "source": [
    "## Hitograms"
   ]
  },
  {
   "cell_type": "markdown",
   "metadata": {},
   "source": [
    "### Check if metadata is equally splitted based on key parameters"
   ]
  },
  {
   "cell_type": "code",
   "execution_count": 98,
   "metadata": {},
   "outputs": [],
   "source": [
    "def print_histogram_for_feature_distribution(checked_feature, train_metadata, val_metadata, test_metadata):\n",
    "    unique_value = set()\n",
    "    for metadata in [train_metadata, val_metadata, test_metadata]:\n",
    "        unique_value.update(train_metadata[checked_feature].unique())\n",
    "    unique_value = sorted(list(unique_value))\n",
    "    histogram_data = pd.DataFrame(columns=[\"unique_val_{}\".format(checked_feature), \"train\", \"val\", \"test\"])\n",
    "    all_size = train_metadata[checked_feature].size + \\\n",
    "        val_metadata[checked_feature].size + \\\n",
    "        test_metadata[checked_feature].size\n",
    "\n",
    "    for idx, u in enumerate(unique_value):\n",
    "        histogram_data.loc[idx] = [\n",
    "            u,\n",
    "            train_metadata[train_metadata[checked_feature]==u][checked_feature].size/all_size,\n",
    "            val_metadata[val_metadata[checked_feature]==u][checked_feature].size/all_size,\n",
    "            test_metadata[test_metadata[checked_feature]==u][checked_feature].size/all_size\n",
    "        ]\n",
    "    histogram_data.plot(x = \"unique_val_{}\".format(checked_feature),kind=\"bar\")\n",
    "    "
   ]
  },
  {
   "cell_type": "code",
   "execution_count": 104,
   "metadata": {},
   "outputs": [
    {
     "data": {
      "image/png": "[encoded data removed]",
      "text/plain": [
       "<Figure size 432x288 with 1 Axes>"
      ]
     },
     "metadata": {
      "needs_background": "light"
     },
     "output_type": "display_data"
    }
   ],
   "source": [
    "checked_feature = \"breast_density\"\n",
    "print_histogram_for_feature_distribution(checked_feature, train_metadata, val_metadata, test_metadata)"
   ]
  },
  {
   "cell_type": "code",
   "execution_count": null,
   "metadata": {},
   "outputs": [],
   "source": []
  }
 ],
 "metadata": {
  "kernelspec": {
   "display_name": "breast_cancer_research_env",
   "language": "python",
   "name": "breast_cancer_research_env"
  },
  "language_info": {
   "codemirror_mode": {
    "name": "ipython",
    "version": 3
   },
   "file_extension": ".py",
   "mimetype": "text/x-python",
   "name": "python",
   "nbconvert_exporter": "python",
   "pygments_lexer": "ipython3",
   "version": "3.6.8"
  }
 },
 "nbformat": 4,
 "nbformat_minor": 2
}
